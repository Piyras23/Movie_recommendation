{
 "cells": [
  {
   "cell_type": "code",
   "execution_count": 26,
   "id": "8f2e8872",
   "metadata": {},
   "outputs": [
    {
     "name": "stdout",
     "output_type": "stream",
     "text": [
      "/Users/keshav/Desktop/Adobe/movie_recommendation\n"
     ]
    }
   ],
   "source": [
    "import numpy as np \n",
    "import pandas as pd \n",
    "\n",
    "import matplotlib.pyplot as plt\n",
    "import seaborn as sns \n",
    "sns.set(style = \"whitegrid\")\n",
    "\n",
    "import warnings\n",
    "warnings.filterwarnings(\"ignore\")\n",
    "\n",
    "from IPython.core.display import display, HTML, Javascript\n",
    "import IPython.display\n",
    "\n",
    "import os\n",
    "print(os.getcwd())"
   ]
  },
  {
   "cell_type": "markdown",
   "id": "9d257fd8",
   "metadata": {},
   "source": [
    "### 1. Background\n",
    "<b> <p>\n",
    "            An online movie rental platform, seeks assistance in increasing their net profit. The platform allows authenticated users to watch, rent-to-watch or buy movies, each with specific storage and viewing constraints .  The client envisions two strategies to enhance profit: building a movie recommendation engine to increase the number of rented movies and a community recommendation engine because they believe communities can influence users to rent more movies.\n",
    " </p></b>\n",
    "\n",
    "<b>     \n",
    "Business Context\n",
    "<ol> • Movie Rental Fee: $5 </ol> \n",
    "\n",
    "<ol> • Movie Purchase Fee: $12 </ol>\n",
    "    \n",
    "<ol> • Monthly Membership: $20 </ol>\n",
    "\n",
    "<ol> • Cost of Storing Uncompressed Movie: $0.75/day </ol>\n",
    "\n",
    "<ol> • Cost of Movie Recommendation: $0.01/recommended movie </ol>\n",
    "\n",
    "<ol> • Constraints on movie renting and purchasing: Every rented movie has a rental expiration period of 72 hours. </ol>\n",
    "\n",
    "<ol> • When a rented movie is started, i must be completed in the next 24 hours.These contraints are associated with the client’s expenses to store rented movies in a de-compressed for- mat. </ol>\n",
    "\n",
    "<ol> • When a purchased movie is not watched in the last 15 days, it gets compressed in order to reduce storage costs.</ol>\n",
    "</b>\n",
    "\n",
    "### 2. Problem Statement:\n",
    "\n",
    "• Business Evaluation Report: – Validate the profitability of the recommendation engine.\n",
    "\n",
    "• Additional Recommendations: – Suggest alternative approaches to increase profit."
   ]
  },
  {
   "cell_type": "code",
   "execution_count": null,
   "id": "2176327e",
   "metadata": {},
   "outputs": [],
   "source": []
  },
  {
   "cell_type": "code",
   "execution_count": null,
   "id": "8b808e32",
   "metadata": {},
   "outputs": [],
   "source": [
    "movie_rental_fee = 5\n",
    "\n",
    "movie_purchase_fee = 12\n",
    "\n",
    "monthly_membership_fee = 20\n",
    "\n",
    "storage_cost_per_day = 0.75\n",
    "recommendation_cost_per_movie = 0.01\n",
    "\n",
    "rental_expiration_period_hours = 72\n",
    "rental_completion_window_hours = 24\n",
    "compression_period_days = 15\n"
   ]
  },
  {
   "cell_type": "code",
   "execution_count": 5,
   "id": "7b26db50",
   "metadata": {},
   "outputs": [],
   "source": [
    "# Sample Size and assumptions:\n",
    "no_of_day = 90 \n",
    "No_of_user = 100"
   ]
  },
  {
   "cell_type": "code",
   "execution_count": null,
   "id": "e3ee9d4d",
   "metadata": {},
   "outputs": [],
   "source": [
    "def "
   ]
  },
  {
   "cell_type": "code",
   "execution_count": null,
   "id": "e46f62fd",
   "metadata": {},
   "outputs": [],
   "source": []
  },
  {
   "cell_type": "code",
   "execution_count": 59,
   "id": "e3ed1124",
   "metadata": {},
   "outputs": [],
   "source": [
    "# Constants\n",
    "rental_fee = 5\n",
    "rental_watch_max = 72\n",
    "rental_watch_min = 24\n",
    "\n",
    "storage_cost_per_day = 0.75\n",
    "\n",
    "purchase_fee = 12\n",
    "purchase_watch= 15\n",
    "\n",
    "MONTHLY_MEMBERSHIP = 20\n",
    "RECOMMENDATION_COST_PER_MOVIE = 0.01"
   ]
  },
  {
   "cell_type": "code",
   "execution_count": 65,
   "id": "801f9801",
   "metadata": {},
   "outputs": [
    {
     "name": "stdout",
     "output_type": "stream",
     "text": [
      "('Minimum net profit from each rental 2.75', 'Maximum net profit from each rental 4.25', 3.5)\n",
      "\n",
      " Net average profit per rental per user each day: $3.5 \n",
      " Net average profit per rental per user evert quater: $315.0\n"
     ]
    }
   ],
   "source": [
    "def net_profit_rental(rental_fee, storage_cost, time_watch_max,time_watch_min):\n",
    "    min_net_rental_profit = rental_fee - (storage_cost * ((rental_watch_max)/24))\n",
    "    max_net_rental_profit = rental_fee - (storage_cost * ((rental_watch_min)/24))\n",
    "    avg_retal_profit = (min_net_rental_profit+max_net_rental_profit)/2\n",
    "    return (f\"Minimum net profit from each rental {min_net_rental_profit}\", f\"Maximum net profit from each rental {max_net_rental_profit}\",\n",
    "           avg_retal_profit)\n",
    "\n",
    "print(net_profit_rental(rental_fee,storage_cost_per_day,rental_watch_max,rental_watch_min))\n",
    "print('\\n', f\"Net average profit per rental per user each day: ${(net_profit_rental(rental_fee,storage_cost_per_day,rental_watch_max,rental_watch_min))[2]}\",\n",
    "     '\\n', f\"Net average profit per rental per user evert quater: ${(net_profit_rental(rental_fee,storage_cost_per_day,rental_watch_max,rental_watch_min))[2]*90}\",\n",
    "     )"
   ]
  },
  {
   "cell_type": "code",
   "execution_count": 67,
   "id": "778a128f",
   "metadata": {},
   "outputs": [
    {
     "data": {
      "text/plain": [
       "(0.75, 'Net Purchase profit for first 15 days 0.75')"
      ]
     },
     "execution_count": 67,
     "metadata": {},
     "output_type": "execute_result"
    }
   ],
   "source": [
    "def net_profit_purchase(purchase_fee, storage_cost, purchase_watch):\n",
    "    \n",
    "    net_purchase_profit = purchase_fee - (storage_cost_per_day * purchase_watch)\n",
    "    \n",
    "    return (net_purchase_profit, f\"Net Purchase profit for first 15 days {net_purchase_profit}\")\n",
    "\n",
    "net_profit_purchase (purchase_fee,storage_cost_per_day, purchase_watch)"
   ]
  },
  {
   "cell_type": "code",
   "execution_count": null,
   "id": "eaea24f8",
   "metadata": {},
   "outputs": [],
   "source": []
  },
  {
   "cell_type": "code",
   "execution_count": 6,
   "id": "94de8ea7",
   "metadata": {},
   "outputs": [
    {
     "name": "stdout",
     "output_type": "stream",
     "text": [
      "Profit for 100 rented movies and 500 recommended movies: $2750.00\n"
     ]
    }
   ],
   "source": [
    "# Function to calculate profit for a given number of rented and recommended movies\n",
    "def calculate_profit(num_rented_movies, num_recommended_movies):\n",
    "    # Revenue from rented movies\n",
    "    rented_movies_revenue = num_rented_movies * MOVIE_RENTAL_FEE\n",
    "\n",
    "    # Revenue from recommended movies\n",
    "    recommended_movies_revenue = num_recommended_movies * MOVIE_RENTAL_FEE\n",
    "\n",
    "    # Total revenue\n",
    "    total_revenue = rented_movies_revenue + recommended_movies_revenue\n",
    "\n",
    "    # Membership revenue\n",
    "    membership_revenue = MONTHLY_MEMBERSHIP\n",
    "\n",
    "    # Total cost\n",
    "    total_cost = (\n",
    "        num_rented_movies * STORAGE_COST_PER_DAY * RENTAL_EXPIRATION_PERIOD_HOURS / 24\n",
    "        + num_recommended_movies * RECOMMENDATION_COST_PER_MOVIE\n",
    "    )\n",
    "\n",
    "    # Profit\n",
    "    profit = total_revenue - total_cost - membership_revenue\n",
    "\n",
    "    return profit\n",
    "\n",
    "# Validation: Calculate profit for 100 rented movies and 500 recommended movies\n",
    "num_rented_movies = 100\n",
    "num_recommended_movies = 500\n",
    "\n",
    "profit = calculate_profit(num_rented_movies, num_recommended_movies)\n",
    "\n",
    "# Display the result\n",
    "print(f\"Profit for {num_rented_movies} rented movies and {num_recommended_movies} recommended movies: ${profit:.2f}\")\n"
   ]
  },
  {
   "cell_type": "code",
   "execution_count": null,
   "id": "88e851df",
   "metadata": {},
   "outputs": [],
   "source": []
  }
 ],
 "metadata": {
  "kernelspec": {
   "display_name": "Python 3 (ipykernel)",
   "language": "python",
   "name": "python3"
  },
  "language_info": {
   "codemirror_mode": {
    "name": "ipython",
    "version": 3
   },
   "file_extension": ".py",
   "mimetype": "text/x-python",
   "name": "python",
   "nbconvert_exporter": "python",
   "pygments_lexer": "ipython3",
   "version": "3.9.12"
  }
 },
 "nbformat": 4,
 "nbformat_minor": 5
}

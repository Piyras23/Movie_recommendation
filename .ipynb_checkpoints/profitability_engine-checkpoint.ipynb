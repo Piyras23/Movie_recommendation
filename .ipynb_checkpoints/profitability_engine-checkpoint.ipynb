{
 "cells": [
  {
   "cell_type": "code",
   "execution_count": 13,
   "id": "8f2e8872",
   "metadata": {},
   "outputs": [
    {
     "name": "stdout",
     "output_type": "stream",
     "text": [
      "/Users/keshav/Desktop/Adobe/movie_recommendation\n"
     ]
    }
   ],
   "source": [
    "import numpy as np \n",
    "import pandas as pd \n",
    "\n",
    "import matplotlib.pyplot as plt\n",
    "import seaborn as sns \n",
    "sns.set(style = \"whitegrid\")\n",
    "\n",
    "import warnings\n",
    "warnings.filterwarnings(\"ignore\")\n",
    "\n",
    "from IPython.core.display import display, HTML, Javascript\n",
    "import IPython.display\n",
    "\n",
    "import os\n",
    "print(os.getcwd())\n",
    "\n"
   ]
  },
  {
   "cell_type": "markdown",
   "id": "9d257fd8",
   "metadata": {},
   "source": [
    "### 1. Background\n",
    "<b> <p>\n",
    "            An online movie rental platform, seeks assistance in increasing their net profit. The platform allows authenticated users to watch, rent-to-watch or buy movies, each with specific storage and viewing constraints .  The client envisions two strategies to enhance profit: building a movie recommendation engine to increase the number of rented movies and a community recommendation engine because they believe communities can influence users to rent more movies.\n",
    " </p></b>\n",
    "\n",
    "<b>     \n",
    "Business Context\n",
    "<ol> • Movie Rental Fee: $5 </ol> \n",
    "\n",
    "<ol> • Movie Purchase Fee: $12 </ol>\n",
    "    \n",
    "<ol> • Monthly Membership: $20 </ol>\n",
    "\n",
    "<ol> • Cost of Storing Uncompressed Movie: $0.75/day </ol>\n",
    "\n",
    "<ol> • Cost of Movie Recommendation: $0.01/recommended movie </ol>\n",
    "\n",
    "<ol> • Constraints on movie renting and purchasing: Every rented movie has a rental expiration period of 72 hours. </ol>\n",
    "\n",
    "<ol> • When a rented movie is started, i must be completed in the next 24 hours.These contraints are associated with the client’s expenses to store rented movies in a de-compressed for- mat. </ol>\n",
    "\n",
    "<ol> • When a purchased movie is not watched in the last 15 days, it gets compressed in order to reduce storage costs.</ol>\n",
    "</b>\n",
    "\n",
    "### 2. Problem Statement:\n",
    "\n",
    "• Business Evaluation Report: – Validate the profitability of the recommendation engine.\n",
    "\n",
    "• Additional Recommendations: – Suggest alternative approaches to increase profit."
   ]
  },
  {
   "cell_type": "code",
   "execution_count": null,
   "id": "2176327e",
   "metadata": {},
   "outputs": [],
   "source": []
  },
  {
   "cell_type": "code",
   "execution_count": 15,
   "id": "7b26db50",
   "metadata": {},
   "outputs": [],
   "source": [
    "# Sample Size and assumptions:\n",
    "no_of_day = 90 \n",
    "no_of_user = 100\n",
    "no_movies_recommention = 5"
   ]
  },
  {
   "cell_type": "code",
   "execution_count": null,
   "id": "e46f62fd",
   "metadata": {},
   "outputs": [],
   "source": []
  },
  {
   "cell_type": "code",
   "execution_count": 2,
   "id": "e3ed1124",
   "metadata": {},
   "outputs": [],
   "source": [
    "# Constants\n",
    "rental_fee = 5\n",
    "rental_watch_max = 72\n",
    "rental_watch_min = 24\n",
    "\n",
    "storage_cost_per_day = 0.75\n",
    "\n",
    "purchase_fee = 12\n",
    "purchase_watch= 15\n",
    "\n",
    "monthly_membership= 20\n",
    "recommendation_cost_movie = 0.01"
   ]
  },
  {
   "cell_type": "code",
   "execution_count": 3,
   "id": "801f9801",
   "metadata": {},
   "outputs": [
    {
     "name": "stdout",
     "output_type": "stream",
     "text": [
      "('Minimum net profit from each rental 2.75', 'Maximum net profit from each rental 4.25', 3.5, 2.75)\n",
      "\n",
      " Net average profit per rental per user: $3.5 \n",
      " Net average profit per rental per user evert quater: $315.0\n"
     ]
    }
   ],
   "source": [
    "def net_profit_rental(rental_fee, storage_cost, time_watch_max,time_watch_min):\n",
    "    min_net_rental_profit = rental_fee - (storage_cost * ((rental_watch_max)/24))\n",
    "    max_net_rental_profit = rental_fee - (storage_cost * ((rental_watch_min)/24))\n",
    "    avg_retal_profit = (min_net_rental_profit+max_net_rental_profit)/2\n",
    "    return (f\"Minimum net profit from each rental {min_net_rental_profit}\", f\"Maximum net profit from each rental {max_net_rental_profit}\",\n",
    "           avg_retal_profit,min_net_rental_profit )\n",
    "\n",
    "print(net_profit_rental(rental_fee,storage_cost_per_day,rental_watch_max,rental_watch_min))\n",
    "print('\\n', f\"Net average profit per rental per user: ${(net_profit_rental(rental_fee,storage_cost_per_day,rental_watch_max,rental_watch_min))[2]}\",\n",
    "     '\\n', f\"Net average profit per rental per user evert quater: ${(net_profit_rental(rental_fee,storage_cost_per_day,rental_watch_max,rental_watch_min))[2]*90}\",\n",
    "     )"
   ]
  },
  {
   "cell_type": "code",
   "execution_count": null,
   "id": "b9200c9a",
   "metadata": {},
   "outputs": [],
   "source": []
  },
  {
   "cell_type": "code",
   "execution_count": 4,
   "id": "778a128f",
   "metadata": {},
   "outputs": [
    {
     "data": {
      "text/plain": [
       "(0.75, 'Net Purchase profit for first 15 days 0.75')"
      ]
     },
     "execution_count": 4,
     "metadata": {},
     "output_type": "execute_result"
    }
   ],
   "source": [
    "def net_profit_purchase(purchase_fee, storage_cost, purchase_watch):\n",
    "    \n",
    "    net_purchase_profit = purchase_fee - (storage_cost_per_day * purchase_watch)\n",
    "    \n",
    "    return (net_purchase_profit, f\"Net Purchase profit for first 15 days {net_purchase_profit}\")\n",
    "\n",
    "net_profit_purchase (purchase_fee,storage_cost_per_day, purchase_watch)"
   ]
  },
  {
   "cell_type": "code",
   "execution_count": null,
   "id": "4250f989",
   "metadata": {},
   "outputs": [],
   "source": []
  },
  {
   "cell_type": "raw",
   "id": "3183cd02",
   "metadata": {},
   "source": [
    "Calculating impact of recommendation on Rental and Purchase revenue streams ever month. \n",
    "\n",
    "\n",
    "•What we know based on modeling above:\n",
    "Net revenue from rental per user for 1 day is $4.25 on 2nd days is $3.5 and 3rd day is $2.75\n",
    "\n",
    "Net revenue from purchase per user for 1 day is $12 and on 15th day is $0.75\n",
    "\n",
    "Based on assumption that customers receiving recommendations are 25% likly to convert each month to rent and 20% likly to convert each month to buy. Hence we can build a model to analyse the impact of recommendation engine on profibilty."
   ]
  },
  {
   "cell_type": "code",
   "execution_count": 5,
   "id": "65695893",
   "metadata": {},
   "outputs": [
    {
     "data": {
      "text/plain": [
       "2.75"
      ]
     },
     "execution_count": 5,
     "metadata": {},
     "output_type": "execute_result"
    }
   ],
   "source": [
    "net_profit_rental(rental_fee,storage_cost_per_day,rental_watch_max,rental_watch_min)[-1]"
   ]
  },
  {
   "cell_type": "code",
   "execution_count": 10,
   "id": "d7629aeb",
   "metadata": {},
   "outputs": [
    {
     "name": "stdout",
     "output_type": "stream",
     "text": [
      "[27.5, 29.0]\n",
      "[0.75, 2.4000000000000004]\n"
     ]
    }
   ],
   "source": [
    "def net_profit_rental_before_after (no_movies_recommention, net_profit_rental):\n",
    "    recommendation_cost_3day_rent = round(no_movies_recommention * 0.01 *3,3)\n",
    "    profit_rental_3days = net_profit_rental\n",
    "    net_profit_rental_3days = profit_rental_3days - recommendation_cost_3day_rent\n",
    "    \n",
    "    net_profit_rental_month = profit_rental_3days*10 \n",
    "    net_profit_rental_month_with_conversion = net_profit_rental_month + rental_fee*.30\n",
    "    \n",
    "    return(net_profit_rental_month, net_profit_rental_month_with_conversion)\n",
    "\n",
    "print(list(net_profit_rental_before_after(no_movies_recommention,net_profit_rental(rental_fee,storage_cost_per_day,rental_watch_max,rental_watch_min)[-1]))\n",
    ")\n",
    "\n",
    "def net_profit_purchase_before_after (no_movies_recommention, profit_15days_buy):\n",
    "    recommendation_cost_15day_buy = round(no_movies_recommention * 0.01 *15,3)\n",
    "    \n",
    "    net_profit_rental_15days_buy = profit_15days_buy - recommendation_cost_15day_buy\n",
    "    net_profit_rental_month_with_conversion = net_profit_rental_15days_buy + purchase_fee*.20\n",
    "    \n",
    "    return(profit_15days_buy, net_profit_rental_month_with_conversion)\n",
    "\n",
    "print(list(net_profit_purchase_before_after(no_movies_recommention,net_profit_purchase (purchase_fee,storage_cost_per_day, purchase_watch)[0])))\n"
   ]
  },
  {
   "cell_type": "code",
   "execution_count": null,
   "id": "a4849346",
   "metadata": {},
   "outputs": [],
   "source": []
  },
  {
   "cell_type": "code",
   "execution_count": 11,
   "id": "ff746235",
   "metadata": {},
   "outputs": [
    {
     "data": {
      "text/plain": [
       "0.75"
      ]
     },
     "execution_count": 11,
     "metadata": {},
     "output_type": "execute_result"
    }
   ],
   "source": [
    "net_profit_purchase (purchase_fee,storage_cost_per_day, purchase_watch)[0]"
   ]
  },
  {
   "cell_type": "code",
   "execution_count": 14,
   "id": "bf5d58ab",
   "metadata": {},
   "outputs": [
    {
     "name": "stdout",
     "output_type": "stream",
     "text": [
      "[27.5, 29.0]\n",
      "[0.75, 2.4000000000000004]\n"
     ]
    },
    {
     "data": {
      "image/png": "[encoded data removed]",
      "text/plain": [
       "<Figure size 1080x720 with 1 Axes>"
      ]
     },
     "metadata": {},
     "output_type": "display_data"
    }
   ],
   "source": [
    "print(list(net_profit_rental_before_after(no_movies_recommention,net_profit_rental(rental_fee,storage_cost_per_day,rental_watch_max,rental_watch_min)[-1])))\n",
    "print(list(net_profit_purchase_before_after(no_movies_recommention,net_profit_purchase (purchase_fee,storage_cost_per_day, purchase_watch)[0])))\n",
    "\n",
    "\n",
    "def visualize_bars(data1, data2, labels):\n",
    "    x = range(len(labels))\n",
    "    plt.figure(figsize=(15,10))\n",
    "    plt.bar(x, data1, width=0.4, label='Rental Net Profit in 1st month', align='center', color='lightgreen')\n",
    "    plt.bar(x, data2, width=0.4, label='Purchase Net Profit 1st month', align='edge', color='red')\n",
    "    \n",
    "    for i, (value1, value2) in enumerate(zip(data1, data2)):\n",
    "        plt.text(i, value1 + 1, f'{value1:.2f}', ha='center', va='bottom', color='black', fontweight='bold')\n",
    "        plt.text(i, value2 + 1, f'{value2:.2f}', ha='center', va='bottom', color='black', fontweight='bold')\n",
    "\n",
    "\n",
    "    plt.xlabel('Recommendation Engine Comparison')\n",
    "    plt.ylabel('Amount in $')\n",
    "    plt.title('Net Profit Comparison')\n",
    "    plt.xticks(x, labels)\n",
    "    plt.legend()\n",
    "    \n",
    "    plt.show()\n",
    "\n",
    "data1 = [27.5, 29.0]\n",
    "data2 = [0.75, 2.4000000000000004]\n",
    "labels = ['Without recommendations engine', 'With recommendations engine']\n",
    "\n",
    "visualize_bars(data1, data2, labels)"
   ]
  },
  {
   "cell_type": "markdown",
   "id": "1c85f684",
   "metadata": {},
   "source": [
    "### Summary: \n",
    " 1. Assumption: Generating 5 recommendation per user every day \n",
    " 2. Assumption: customers are 30% more likely to rent  and 20% likely to buy every month after the receiving recommendations every day. \n",
    "\n",
    "\n",
    "### Conclusion:\n",
    "\n",
    "In conclusion, our analysis highlights a significant impact of the recommendation engine on the overall profitability of the company.\n",
    "\n",
    "#### Detailed Findings:\n",
    "\n",
    "Our model indicates a substantial increase in profitability attributable to the implementation of a recommendation engine. Specifically, when considering purchase services, the company is generating 0.75 dollars in net profits per user within the initial 15 days. In contrast, the rental services exhibits a notable increase, resulting in a monthly per-user net profit of 27.4 dollars.\n",
    "\n",
    "On comparison with help of recommendation engine for the first month the net profit for purchase service increased to 2.4 dollars from .75 dollars and for rental services increased from 27.5 to 29.0. \n",
    "\n",
    "#### Strategic Recommendation:\n",
    "\n",
    "Hence, given these findings, we recommend that the company strategically focuses on rental and subscription-based services approach to increase in profit, leveraging the power of personalized recommendation systems. This emphasis is likely to yield a considerable boost in profits through the recommendation engine.\n",
    "\n",
    "The personalized nature of recommendations not only enhances user engagement but also contributes significantly to the company's bottom line. As users increasingly rely on the platform for curated content suggestions, the company stands to benefit from heightened user satisfaction, retention, and ultimately, increased profitability.\n"
   ]
  },
  {
   "cell_type": "code",
   "execution_count": null,
   "id": "c846e4ce",
   "metadata": {},
   "outputs": [],
   "source": []
  }
 ],
 "metadata": {
  "kernelspec": {
   "display_name": "Python 3 (ipykernel)",
   "language": "python",
   "name": "python3"
  },
  "language_info": {
   "codemirror_mode": {
    "name": "ipython",
    "version": 3
   },
   "file_extension": ".py",
   "mimetype": "text/x-python",
   "name": "python",
   "nbconvert_exporter": "python",
   "pygments_lexer": "ipython3",
   "version": "3.9.12"
  }
 },
 "nbformat": 4,
 "nbformat_minor": 5
}
